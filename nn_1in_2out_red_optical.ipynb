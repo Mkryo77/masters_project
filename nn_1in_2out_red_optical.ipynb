version https://git-lfs.github.com/spec/v1
oid sha256:fd7ba254a2a5bc733d3dba61257c40e2dc080c51e06d287e9053b45a07f9b561
size 27043318
