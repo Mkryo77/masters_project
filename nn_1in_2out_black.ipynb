version https://git-lfs.github.com/spec/v1
oid sha256:6ea13bf01b5180185407e609382235e802ab0b180b711a37368b3f81987e0f27
size 27024131
