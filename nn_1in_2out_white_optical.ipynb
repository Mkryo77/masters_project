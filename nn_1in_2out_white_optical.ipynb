version https://git-lfs.github.com/spec/v1
oid sha256:2c664d6d7cb244c11797c9cf3cee7de209b830a80a57bce1819894371d2c7649
size 27037218
