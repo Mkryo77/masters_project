version https://git-lfs.github.com/spec/v1
oid sha256:79cc874b592c98bfd95457a6b273ecfacad49f0afef93e7f726e893b6d7c8650
size 83110374
