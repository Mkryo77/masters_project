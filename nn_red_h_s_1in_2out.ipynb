version https://git-lfs.github.com/spec/v1
oid sha256:be123d72338b3115c175b89bb98e8c78d2402dd987f8e344bafceafa9e54254a
size 538966
