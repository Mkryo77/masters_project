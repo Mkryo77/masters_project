version https://git-lfs.github.com/spec/v1
oid sha256:59c07d3ca0e7c070ca87ab4a4be0ef96602fd9988c463600318545b7ddcad621
size 470805
